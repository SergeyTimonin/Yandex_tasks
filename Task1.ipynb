{
 "cells": [
  {
   "cell_type": "markdown",
   "metadata": {},
   "source": [
    "## Задание №1\n",
    "**Пояснение к формату:**\n",
    "login — логин асессора; \n",
    "tid — id оцениваемого задания (task id); \n",
    "Microtasks – количество микрозаданий в одном задании; \n",
    "assigned_ts — время резервирования системой задания для асессора; \n",
    "closed_ts — точное время завершения работы над заданием; разделитель — табуляция \\t.\n",
    "\n",
    "Задание может состоять из одного или несколько микрозаданий. Время резервирования задания (assigned_ts) указывает на тот момент, когда система назначила определенного асессора исполнителем этого задания. Этот момент может совпадать с временем начала работы асессора над заданием, а может и не совпадать (асессор может отойти выпить чаю, а потом приступить к заданию, асессор может выполнять предыдущее задание, в то время как за ним зарезервированы новые).\n",
    "\n",
    "Предположим, что асессор за 30 секунд своего рабочего времени получает N рублей.\n",
    "\n",
    "**Какую оплату вы считаете справедливой для выполнения асессором одного микрозадания из этого файла?** Опишите подробно все этапы вашего решения."
   ]
  },
  {
   "cell_type": "markdown",
   "metadata": {},
   "source": [
    "#### Шаг1 Для начала подготовим данные"
   ]
  },
  {
   "cell_type": "code",
   "execution_count": 1,
   "metadata": {},
   "outputs": [],
   "source": [
    "import pandas as pd\n",
    "import numpy as np\n",
    "import matplotlib.pyplot as plt\n",
    "import seaborn as sns\n",
    "#from IPython.display import display as show\n",
    "df = pd.read_csv('data_task4_old.txt', sep='\\t')"
   ]
  },
  {
   "cell_type": "code",
   "execution_count": 2,
   "metadata": {},
   "outputs": [
    {
     "name": "stdout",
     "output_type": "stream",
     "text": [
      "<class 'pandas.core.frame.DataFrame'>\n",
      "RangeIndex: 701827 entries, 0 to 701826\n",
      "Data columns (total 5 columns):\n",
      " #   Column       Non-Null Count   Dtype  \n",
      "---  ------       --------------   -----  \n",
      " 0   login        701827 non-null  object \n",
      " 1   tid          701827 non-null  float64\n",
      " 2   Microtasks   701827 non-null  float64\n",
      " 3   assigned_ts  701827 non-null  object \n",
      " 4   closed_ts    701827 non-null  object \n",
      "dtypes: float64(2), object(3)\n",
      "memory usage: 26.8+ MB\n"
     ]
    }
   ],
   "source": [
    "df.info()"
   ]
  },
  {
   "cell_type": "code",
   "execution_count": 3,
   "metadata": {},
   "outputs": [],
   "source": [
    "#Для дальнейшего удобства переименую столбцы и поменяю типы данных для возможности вычислений\n",
    "\n",
    "#df.rename(columns = {'assigned_ts':'start', 'closed_ts':'end'}, inplace = True)\n",
    "df['tid']=df['tid'].astype('int')\n",
    "df['Microtasks'].astype('int')\n",
    "df['open'] = pd.to_datetime(df.assigned_ts)\n",
    "df['closed'] = pd.to_datetime(df.closed_ts)\n",
    "del df['assigned_ts'], df['closed_ts']"
   ]
  },
  {
   "cell_type": "code",
   "execution_count": 4,
   "metadata": {},
   "outputs": [
    {
     "data": {
      "text/html": [
       "<div>\n",
       "<style scoped>\n",
       "    .dataframe tbody tr th:only-of-type {\n",
       "        vertical-align: middle;\n",
       "    }\n",
       "\n",
       "    .dataframe tbody tr th {\n",
       "        vertical-align: top;\n",
       "    }\n",
       "\n",
       "    .dataframe thead th {\n",
       "        text-align: right;\n",
       "    }\n",
       "</style>\n",
       "<table border=\"1\" class=\"dataframe\">\n",
       "  <thead>\n",
       "    <tr style=\"text-align: right;\">\n",
       "      <th></th>\n",
       "      <th>tid</th>\n",
       "      <th>Microtasks</th>\n",
       "    </tr>\n",
       "  </thead>\n",
       "  <tbody>\n",
       "    <tr>\n",
       "      <th>count</th>\n",
       "      <td>7.018270e+05</td>\n",
       "      <td>701827.00000</td>\n",
       "    </tr>\n",
       "    <tr>\n",
       "      <th>mean</th>\n",
       "      <td>1.884911e+08</td>\n",
       "      <td>3.25439</td>\n",
       "    </tr>\n",
       "    <tr>\n",
       "      <th>std</th>\n",
       "      <td>1.391113e+07</td>\n",
       "      <td>3.65397</td>\n",
       "    </tr>\n",
       "    <tr>\n",
       "      <th>min</th>\n",
       "      <td>1.139586e+08</td>\n",
       "      <td>1.00000</td>\n",
       "    </tr>\n",
       "    <tr>\n",
       "      <th>25%</th>\n",
       "      <td>1.906846e+08</td>\n",
       "      <td>1.00000</td>\n",
       "    </tr>\n",
       "    <tr>\n",
       "      <th>50%</th>\n",
       "      <td>1.935373e+08</td>\n",
       "      <td>2.00000</td>\n",
       "    </tr>\n",
       "    <tr>\n",
       "      <th>75%</th>\n",
       "      <td>1.963667e+08</td>\n",
       "      <td>4.00000</td>\n",
       "    </tr>\n",
       "    <tr>\n",
       "      <th>max</th>\n",
       "      <td>1.985758e+08</td>\n",
       "      <td>50.00000</td>\n",
       "    </tr>\n",
       "  </tbody>\n",
       "</table>\n",
       "</div>"
      ],
      "text/plain": [
       "                tid    Microtasks\n",
       "count  7.018270e+05  701827.00000\n",
       "mean   1.884911e+08       3.25439\n",
       "std    1.391113e+07       3.65397\n",
       "min    1.139586e+08       1.00000\n",
       "25%    1.906846e+08       1.00000\n",
       "50%    1.935373e+08       2.00000\n",
       "75%    1.963667e+08       4.00000\n",
       "max    1.985758e+08      50.00000"
      ]
     },
     "execution_count": 4,
     "metadata": {},
     "output_type": "execute_result"
    }
   ],
   "source": [
    "#Выведу общую статистику\n",
    "\n",
    "df.describe()"
   ]
  },
  {
   "cell_type": "code",
   "execution_count": 5,
   "metadata": {},
   "outputs": [
    {
     "data": {
      "text/html": [
       "<div>\n",
       "<style scoped>\n",
       "    .dataframe tbody tr th:only-of-type {\n",
       "        vertical-align: middle;\n",
       "    }\n",
       "\n",
       "    .dataframe tbody tr th {\n",
       "        vertical-align: top;\n",
       "    }\n",
       "\n",
       "    .dataframe thead th {\n",
       "        text-align: right;\n",
       "    }\n",
       "</style>\n",
       "<table border=\"1\" class=\"dataframe\">\n",
       "  <thead>\n",
       "    <tr style=\"text-align: right;\">\n",
       "      <th></th>\n",
       "      <th>login</th>\n",
       "      <th>tid</th>\n",
       "      <th>Microtasks</th>\n",
       "      <th>open</th>\n",
       "      <th>closed</th>\n",
       "    </tr>\n",
       "  </thead>\n",
       "  <tbody>\n",
       "    <tr>\n",
       "      <th>27154</th>\n",
       "      <td>login16</td>\n",
       "      <td>189549650</td>\n",
       "      <td>1.0</td>\n",
       "      <td>2017-04-21 06:32:24</td>\n",
       "      <td>2017-04-24 02:56:29</td>\n",
       "    </tr>\n",
       "    <tr>\n",
       "      <th>27155</th>\n",
       "      <td>login16</td>\n",
       "      <td>191410866</td>\n",
       "      <td>1.0</td>\n",
       "      <td>2017-04-24 02:56:22</td>\n",
       "      <td>2017-04-24 02:56:48</td>\n",
       "    </tr>\n",
       "    <tr>\n",
       "      <th>27156</th>\n",
       "      <td>login16</td>\n",
       "      <td>191411008</td>\n",
       "      <td>3.0</td>\n",
       "      <td>2017-04-24 02:56:29</td>\n",
       "      <td>2017-04-24 02:57:36</td>\n",
       "    </tr>\n",
       "    <tr>\n",
       "      <th>27157</th>\n",
       "      <td>login16</td>\n",
       "      <td>191410632</td>\n",
       "      <td>1.0</td>\n",
       "      <td>2017-04-24 02:56:49</td>\n",
       "      <td>2017-04-24 02:58:14</td>\n",
       "    </tr>\n",
       "    <tr>\n",
       "      <th>27158</th>\n",
       "      <td>login16</td>\n",
       "      <td>191410500</td>\n",
       "      <td>1.0</td>\n",
       "      <td>2017-04-24 02:57:40</td>\n",
       "      <td>2017-04-24 02:58:31</td>\n",
       "    </tr>\n",
       "  </tbody>\n",
       "</table>\n",
       "</div>"
      ],
      "text/plain": [
       "         login        tid  Microtasks                open              closed\n",
       "27154  login16  189549650         1.0 2017-04-21 06:32:24 2017-04-24 02:56:29\n",
       "27155  login16  191410866         1.0 2017-04-24 02:56:22 2017-04-24 02:56:48\n",
       "27156  login16  191411008         3.0 2017-04-24 02:56:29 2017-04-24 02:57:36\n",
       "27157  login16  191410632         1.0 2017-04-24 02:56:49 2017-04-24 02:58:14\n",
       "27158  login16  191410500         1.0 2017-04-24 02:57:40 2017-04-24 02:58:31"
      ]
     },
     "execution_count": 5,
     "metadata": {},
     "output_type": "execute_result"
    }
   ],
   "source": [
    "#проверка значений с NaN (таких не оказалось)\n",
    "\n",
    "np.where(pd.isnull(df))\n",
    "\n",
    "\n",
    "#поиск дубликатов\n",
    "\n",
    "df[df.duplicated(keep=False)].head()"
   ]
  },
  {
   "cell_type": "code",
   "execution_count": 6,
   "metadata": {},
   "outputs": [
    {
     "data": {
      "text/html": [
       "<div>\n",
       "<style scoped>\n",
       "    .dataframe tbody tr th:only-of-type {\n",
       "        vertical-align: middle;\n",
       "    }\n",
       "\n",
       "    .dataframe tbody tr th {\n",
       "        vertical-align: top;\n",
       "    }\n",
       "\n",
       "    .dataframe thead th {\n",
       "        text-align: right;\n",
       "    }\n",
       "</style>\n",
       "<table border=\"1\" class=\"dataframe\">\n",
       "  <thead>\n",
       "    <tr style=\"text-align: right;\">\n",
       "      <th></th>\n",
       "      <th>tid</th>\n",
       "      <th>Microtasks</th>\n",
       "    </tr>\n",
       "  </thead>\n",
       "  <tbody>\n",
       "    <tr>\n",
       "      <th>count</th>\n",
       "      <td>6.800370e+05</td>\n",
       "      <td>680037.000000</td>\n",
       "    </tr>\n",
       "    <tr>\n",
       "      <th>mean</th>\n",
       "      <td>1.885684e+08</td>\n",
       "      <td>3.245282</td>\n",
       "    </tr>\n",
       "    <tr>\n",
       "      <th>std</th>\n",
       "      <td>1.367803e+07</td>\n",
       "      <td>3.646966</td>\n",
       "    </tr>\n",
       "    <tr>\n",
       "      <th>min</th>\n",
       "      <td>1.139586e+08</td>\n",
       "      <td>1.000000</td>\n",
       "    </tr>\n",
       "    <tr>\n",
       "      <th>25%</th>\n",
       "      <td>1.906846e+08</td>\n",
       "      <td>1.000000</td>\n",
       "    </tr>\n",
       "    <tr>\n",
       "      <th>50%</th>\n",
       "      <td>1.935639e+08</td>\n",
       "      <td>2.000000</td>\n",
       "    </tr>\n",
       "    <tr>\n",
       "      <th>75%</th>\n",
       "      <td>1.963753e+08</td>\n",
       "      <td>4.000000</td>\n",
       "    </tr>\n",
       "    <tr>\n",
       "      <th>max</th>\n",
       "      <td>1.985758e+08</td>\n",
       "      <td>50.000000</td>\n",
       "    </tr>\n",
       "  </tbody>\n",
       "</table>\n",
       "</div>"
      ],
      "text/plain": [
       "                tid     Microtasks\n",
       "count  6.800370e+05  680037.000000\n",
       "mean   1.885684e+08       3.245282\n",
       "std    1.367803e+07       3.646966\n",
       "min    1.139586e+08       1.000000\n",
       "25%    1.906846e+08       1.000000\n",
       "50%    1.935639e+08       2.000000\n",
       "75%    1.963753e+08       4.000000\n",
       "max    1.985758e+08      50.000000"
      ]
     },
     "execution_count": 6,
     "metadata": {},
     "output_type": "execute_result"
    }
   ],
   "source": [
    "#удаление дубликатов\n",
    "\n",
    "df = df.drop_duplicates()\n",
    "df.describe()              #общие данные немного уменьшились"
   ]
  },
  {
   "cell_type": "code",
   "execution_count": 7,
   "metadata": {},
   "outputs": [
    {
     "data": {
      "text/html": [
       "<div>\n",
       "<style scoped>\n",
       "    .dataframe tbody tr th:only-of-type {\n",
       "        vertical-align: middle;\n",
       "    }\n",
       "\n",
       "    .dataframe tbody tr th {\n",
       "        vertical-align: top;\n",
       "    }\n",
       "\n",
       "    .dataframe thead th {\n",
       "        text-align: right;\n",
       "    }\n",
       "</style>\n",
       "<table border=\"1\" class=\"dataframe\">\n",
       "  <thead>\n",
       "    <tr style=\"text-align: right;\">\n",
       "      <th></th>\n",
       "      <th>login</th>\n",
       "      <th>tid</th>\n",
       "      <th>Microtasks</th>\n",
       "      <th>open</th>\n",
       "      <th>closed</th>\n",
       "      <th>runtime</th>\n",
       "      <th>task_runtime</th>\n",
       "    </tr>\n",
       "  </thead>\n",
       "  <tbody>\n",
       "    <tr>\n",
       "      <th>0</th>\n",
       "      <td>login0</td>\n",
       "      <td>190563850</td>\n",
       "      <td>4.0</td>\n",
       "      <td>2017-04-20 12:09:39</td>\n",
       "      <td>2017-04-20 13:13:01</td>\n",
       "      <td>3802</td>\n",
       "      <td>950.50</td>\n",
       "    </tr>\n",
       "    <tr>\n",
       "      <th>1</th>\n",
       "      <td>login0</td>\n",
       "      <td>190561754</td>\n",
       "      <td>1.0</td>\n",
       "      <td>2017-04-20 12:10:30</td>\n",
       "      <td>2017-04-20 12:28:29</td>\n",
       "      <td>1079</td>\n",
       "      <td>1079.00</td>\n",
       "    </tr>\n",
       "    <tr>\n",
       "      <th>2</th>\n",
       "      <td>login0</td>\n",
       "      <td>190565906</td>\n",
       "      <td>4.0</td>\n",
       "      <td>2017-04-20 12:21:31</td>\n",
       "      <td>2017-04-20 13:30:10</td>\n",
       "      <td>4119</td>\n",
       "      <td>1029.75</td>\n",
       "    </tr>\n",
       "    <tr>\n",
       "      <th>3</th>\n",
       "      <td>login0</td>\n",
       "      <td>190560246</td>\n",
       "      <td>1.0</td>\n",
       "      <td>2017-04-20 12:28:30</td>\n",
       "      <td>2017-04-20 13:13:56</td>\n",
       "      <td>2726</td>\n",
       "      <td>2726.00</td>\n",
       "    </tr>\n",
       "    <tr>\n",
       "      <th>4</th>\n",
       "      <td>login0</td>\n",
       "      <td>190562168</td>\n",
       "      <td>2.0</td>\n",
       "      <td>2017-04-20 12:28:42</td>\n",
       "      <td>2017-04-20 13:14:50</td>\n",
       "      <td>2768</td>\n",
       "      <td>1384.00</td>\n",
       "    </tr>\n",
       "  </tbody>\n",
       "</table>\n",
       "</div>"
      ],
      "text/plain": [
       "    login        tid  Microtasks                open              closed  \\\n",
       "0  login0  190563850         4.0 2017-04-20 12:09:39 2017-04-20 13:13:01   \n",
       "1  login0  190561754         1.0 2017-04-20 12:10:30 2017-04-20 12:28:29   \n",
       "2  login0  190565906         4.0 2017-04-20 12:21:31 2017-04-20 13:30:10   \n",
       "3  login0  190560246         1.0 2017-04-20 12:28:30 2017-04-20 13:13:56   \n",
       "4  login0  190562168         2.0 2017-04-20 12:28:42 2017-04-20 13:14:50   \n",
       "\n",
       "   runtime  task_runtime  \n",
       "0     3802        950.50  \n",
       "1     1079       1079.00  \n",
       "2     4119       1029.75  \n",
       "3     2726       2726.00  \n",
       "4     2768       1384.00  "
      ]
     },
     "execution_count": 7,
     "metadata": {},
     "output_type": "execute_result"
    }
   ],
   "source": [
    "#Время выполнения сессии в секундах\n",
    "\n",
    "df['runtime']=(df['closed']-df['open']).dt.total_seconds().astype(int)\n",
    "df['runtime'].describe().astype(int)\n",
    "\n",
    "#Время выполнения 1 задания в секундах\n",
    "\n",
    "df['task_runtime']=(df['runtime']/df['Microtasks'])\n",
    "df['task_runtime'].astype(int)\n",
    "df.head()"
   ]
  },
  {
   "cell_type": "code",
   "execution_count": 8,
   "metadata": {},
   "outputs": [
    {
     "data": {
      "text/html": [
       "<div>\n",
       "<style scoped>\n",
       "    .dataframe tbody tr th:only-of-type {\n",
       "        vertical-align: middle;\n",
       "    }\n",
       "\n",
       "    .dataframe tbody tr th {\n",
       "        vertical-align: top;\n",
       "    }\n",
       "\n",
       "    .dataframe thead th {\n",
       "        text-align: right;\n",
       "    }\n",
       "</style>\n",
       "<table border=\"1\" class=\"dataframe\">\n",
       "  <thead>\n",
       "    <tr style=\"text-align: right;\">\n",
       "      <th></th>\n",
       "      <th>Microtasks</th>\n",
       "      <th>runtime</th>\n",
       "    </tr>\n",
       "  </thead>\n",
       "  <tbody>\n",
       "    <tr>\n",
       "      <th>Microtasks</th>\n",
       "      <td>1.000000</td>\n",
       "      <td>0.192711</td>\n",
       "    </tr>\n",
       "    <tr>\n",
       "      <th>runtime</th>\n",
       "      <td>0.192711</td>\n",
       "      <td>1.000000</td>\n",
       "    </tr>\n",
       "  </tbody>\n",
       "</table>\n",
       "</div>"
      ],
      "text/plain": [
       "            Microtasks   runtime\n",
       "Microtasks    1.000000  0.192711\n",
       "runtime       0.192711  1.000000"
      ]
     },
     "execution_count": 8,
     "metadata": {},
     "output_type": "execute_result"
    }
   ],
   "source": [
    "#Отсутствует корреляция у кол-во задач и времени на их затрату, то есть на одну задачу разные асессоры тратят абсолютно разное время\n",
    "\n",
    "df[['Microtasks', 'runtime']].corr()"
   ]
  },
  {
   "cell_type": "code",
   "execution_count": 9,
   "metadata": {},
   "outputs": [
    {
     "data": {
      "text/html": [
       "<div>\n",
       "<style scoped>\n",
       "    .dataframe tbody tr th:only-of-type {\n",
       "        vertical-align: middle;\n",
       "    }\n",
       "\n",
       "    .dataframe tbody tr th {\n",
       "        vertical-align: top;\n",
       "    }\n",
       "\n",
       "    .dataframe thead th {\n",
       "        text-align: right;\n",
       "    }\n",
       "</style>\n",
       "<table border=\"1\" class=\"dataframe\">\n",
       "  <thead>\n",
       "    <tr style=\"text-align: right;\">\n",
       "      <th></th>\n",
       "      <th>Microtasks</th>\n",
       "      <th>runtime</th>\n",
       "      <th>task_runtime</th>\n",
       "    </tr>\n",
       "    <tr>\n",
       "      <th>login</th>\n",
       "      <th></th>\n",
       "      <th></th>\n",
       "      <th></th>\n",
       "    </tr>\n",
       "  </thead>\n",
       "  <tbody>\n",
       "    <tr>\n",
       "      <th>login0</th>\n",
       "      <td>2172.0</td>\n",
       "      <td>1820211</td>\n",
       "      <td>838.034530</td>\n",
       "    </tr>\n",
       "    <tr>\n",
       "      <th>login1</th>\n",
       "      <td>3513.0</td>\n",
       "      <td>405881</td>\n",
       "      <td>115.536863</td>\n",
       "    </tr>\n",
       "    <tr>\n",
       "      <th>login10</th>\n",
       "      <td>136.0</td>\n",
       "      <td>300849</td>\n",
       "      <td>2212.125000</td>\n",
       "    </tr>\n",
       "    <tr>\n",
       "      <th>login100</th>\n",
       "      <td>65.0</td>\n",
       "      <td>8406</td>\n",
       "      <td>129.323077</td>\n",
       "    </tr>\n",
       "    <tr>\n",
       "      <th>login101</th>\n",
       "      <td>11750.0</td>\n",
       "      <td>1795217</td>\n",
       "      <td>152.784426</td>\n",
       "    </tr>\n",
       "  </tbody>\n",
       "</table>\n",
       "</div>"
      ],
      "text/plain": [
       "          Microtasks  runtime  task_runtime\n",
       "login                                      \n",
       "login0        2172.0  1820211    838.034530\n",
       "login1        3513.0   405881    115.536863\n",
       "login10        136.0   300849   2212.125000\n",
       "login100        65.0     8406    129.323077\n",
       "login101     11750.0  1795217    152.784426"
      ]
     },
     "execution_count": 9,
     "metadata": {},
     "output_type": "execute_result"
    }
   ],
   "source": [
    "#создаю свобную таблицу чтобы сгруппировать данные и посчитать среднее время выполнения задач внутри нее\n",
    "\n",
    "pivot=pd.pivot_table(df, values = ['runtime', 'Microtasks'], index = 'login', aggfunc = 'sum')\n",
    "pivot['task_runtime'] = pivot.runtime/pivot.Microtasks\n",
    "pivot.head()"
   ]
  },
  {
   "cell_type": "code",
   "execution_count": 10,
   "metadata": {},
   "outputs": [
    {
     "data": {
      "text/html": [
       "<div>\n",
       "<style scoped>\n",
       "    .dataframe tbody tr th:only-of-type {\n",
       "        vertical-align: middle;\n",
       "    }\n",
       "\n",
       "    .dataframe tbody tr th {\n",
       "        vertical-align: top;\n",
       "    }\n",
       "\n",
       "    .dataframe thead th {\n",
       "        text-align: right;\n",
       "    }\n",
       "</style>\n",
       "<table border=\"1\" class=\"dataframe\">\n",
       "  <thead>\n",
       "    <tr style=\"text-align: right;\">\n",
       "      <th></th>\n",
       "      <th>Microtasks</th>\n",
       "      <th>runtime</th>\n",
       "      <th>task_runtime</th>\n",
       "    </tr>\n",
       "  </thead>\n",
       "  <tbody>\n",
       "    <tr>\n",
       "      <th>count</th>\n",
       "      <td>767.000000</td>\n",
       "      <td>7.670000e+02</td>\n",
       "      <td>767.000000</td>\n",
       "    </tr>\n",
       "    <tr>\n",
       "      <th>mean</th>\n",
       "      <td>2877.329857</td>\n",
       "      <td>1.670396e+06</td>\n",
       "      <td>1083.447669</td>\n",
       "    </tr>\n",
       "    <tr>\n",
       "      <th>std</th>\n",
       "      <td>4558.582749</td>\n",
       "      <td>3.183216e+06</td>\n",
       "      <td>2386.665231</td>\n",
       "    </tr>\n",
       "    <tr>\n",
       "      <th>min</th>\n",
       "      <td>1.000000</td>\n",
       "      <td>2.200000e+01</td>\n",
       "      <td>22.000000</td>\n",
       "    </tr>\n",
       "    <tr>\n",
       "      <th>25%</th>\n",
       "      <td>363.500000</td>\n",
       "      <td>1.626270e+05</td>\n",
       "      <td>145.167844</td>\n",
       "    </tr>\n",
       "    <tr>\n",
       "      <th>50%</th>\n",
       "      <td>1358.000000</td>\n",
       "      <td>5.672610e+05</td>\n",
       "      <td>370.529494</td>\n",
       "    </tr>\n",
       "    <tr>\n",
       "      <th>75%</th>\n",
       "      <td>3437.500000</td>\n",
       "      <td>1.530726e+06</td>\n",
       "      <td>1207.438160</td>\n",
       "    </tr>\n",
       "    <tr>\n",
       "      <th>max</th>\n",
       "      <td>51402.000000</td>\n",
       "      <td>2.270733e+07</td>\n",
       "      <td>44967.119284</td>\n",
       "    </tr>\n",
       "  </tbody>\n",
       "</table>\n",
       "</div>"
      ],
      "text/plain": [
       "         Microtasks       runtime  task_runtime\n",
       "count    767.000000  7.670000e+02    767.000000\n",
       "mean    2877.329857  1.670396e+06   1083.447669\n",
       "std     4558.582749  3.183216e+06   2386.665231\n",
       "min        1.000000  2.200000e+01     22.000000\n",
       "25%      363.500000  1.626270e+05    145.167844\n",
       "50%     1358.000000  5.672610e+05    370.529494\n",
       "75%     3437.500000  1.530726e+06   1207.438160\n",
       "max    51402.000000  2.270733e+07  44967.119284"
      ]
     },
     "execution_count": 10,
     "metadata": {},
     "output_type": "execute_result"
    }
   ],
   "source": [
    "pivot.describe()"
   ]
  },
  {
   "cell_type": "markdown",
   "metadata": {},
   "source": [
    "**Получил сколько асессер в среднем тратит времени на 1 задачу - 1083 секунду.** Причем минимальное 22 сек и максимальное 44 957\n",
    "\n",
    "**НО** такой подход не совсем верный, потому что не учивывает что асессор в один промежуток времени может выполнять несколько задач. Чтобы это учесть необходимо сгруппировать временные промежутки которые пересекаются и посчитать данные внутри них."
   ]
  },
  {
   "cell_type": "markdown",
   "metadata": {},
   "source": [
    "Проверим разлет времени, сколько асессор по графику"
   ]
  },
  {
   "cell_type": "code",
   "execution_count": 11,
   "metadata": {},
   "outputs": [
    {
     "data": {
      "text/plain": [
       "Text(0, 0.5, 'Среднее время выполнения 1 задания')"
      ]
     },
     "execution_count": 11,
     "metadata": {},
     "output_type": "execute_result"
    },
    {
     "data": {
      "image/png": "[encoded data removed]",
      "text/plain": [
       "<Figure size 432x288 with 1 Axes>"
      ]
     },
     "metadata": {
      "needs_background": "light"
     },
     "output_type": "display_data"
    }
   ],
   "source": [
    "pivot['task_runtime'].plot(kind='hist')\n",
    "plt.ylabel('Среднее время выполнения 1 задания')"
   ]
  },
  {
   "cell_type": "markdown",
   "metadata": {},
   "source": [
    "**Далее будут мои предположения по следующим шагам:**\n",
    "Нужно сделать группировку пересекающихся временных промежутков и посчитать данные внутри них, через .groupby и pivot это не работает, так как надо перебирать временные промежутки, это можно сделать через функции или модули. Я знаю как создавать базовые простые функции и объединять их в модули, но пока, к сожалению, не могу сделать такой перебор."
   ]
  },
  {
   "cell_type": "markdown",
   "metadata": {},
   "source": [
    "После выполнения функции должна получиться таблица, где после агрегации видно, что асессор Х имеет ряд временых промежутков, пример ниже:"
   ]
  },
  {
   "cell_type": "markdown",
   "metadata": {},
   "source": [
    "login | open | closed | sum Microtasks | Runtime | task_runtime\n",
    "--- | --- | --- | --- | --- | --- |\n",
    "login0 | 2017-04-20 12:09:39 | 2017-04-20 13:14:50 | 15| 780 | 80"
   ]
  },
  {
   "cell_type": "markdown",
   "metadata": {},
   "source": [
    "То есть в данном случае промежуток между началом и концом работы должен вмещать в себя ряд записей, а не одну как я считал ранее. Такой подсчет считаю будет более корректный.\n"
   ]
  },
  {
   "cell_type": "markdown",
   "metadata": {},
   "source": [
    "\n",
    "\n",
    "**Исходя из полученной таблицы можно будет получить:**\n",
    "1. Сколько действительно времени асессор тратит время на задачу\n",
    "2. Сколько задач асессор может исполнить в день и сколько времени он тратит на каждую из них\n",
    "3. Сравнить на графике какие асессоры за какой средний промежуток времени выполняют 1 задачу, и сколько из них управляется в 30 секунд (судя по данным подсчитаным мной ранее на выполнение задачи асессору вообще требуется порядка 700 секунд, но повторюсь, я бы не брал эти данные за основу).\n"
   ]
  },
  {
   "cell_type": "markdown",
   "metadata": {},
   "source": [
    "### Вывод:\n",
    "Достаточно затруднительно ответить на вопрос *сколько* именно стоит платить асессору за 30 секунд его работы, скорее в данном расчете можно только определить почему именно 30 секунд и хватит ли среднему асессору этого времени на выполнение одной задачи. Так же стоит учесть, что уровень асессоров может быть разный, как видно на статистической таблица в среднем у асесосора на задачу уходит 700 сек, а диапозон от минимального до максимльное время составляет от 22 сек до 44900. Это очень большой разброс, чему свидетельствует стандартное отклонение в 2386 сек"
   ]
  },
  {
   "cell_type": "code",
   "execution_count": null,
   "metadata": {},
   "outputs": [],
   "source": []
  }
 ],
 "metadata": {
  "kernelspec": {
   "display_name": "Python",
   "language": "python",
   "name": "conda-env-python-py"
  },
  "language_info": {
   "codemirror_mode": {
    "name": "ipython",
    "version": 3
   },
   "file_extension": ".py",
   "mimetype": "text/x-python",
   "name": "python",
   "nbconvert_exporter": "python",
   "pygments_lexer": "ipython3",
   "version": "3.6.12"
  }
 },
 "nbformat": 4,
 "nbformat_minor": 4
}
