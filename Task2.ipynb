{
 "cells": [
  {
   "cell_type": "markdown",
   "metadata": {},
   "source": [
    "## Задание 2\n",
    "**Пояснение к формату:** login — логин асессора; uid — id асессора (user id); docid — id оцениваемого документа (document id); jud — оценка асессора (judgement); cjud — правильная оценка (correct judgement); разделитель — табуляция \\t.\n",
    "\n",
    "Оценки могут принимать значение [0, 1], т.е. задание, которое сделали асессоры, имеет бинарную шкалу.\n",
    "\n",
    "Используя данные об оценках, установите, какие асессоры хуже всего справились с заданием. На какие показатели вы ориентировались и какие метрики вы использовали для ответа на этот вопрос? Можно ли предложить какие-то новые метрики для подсчета качества асессоров с учетом природы оценок у этого бинарного задания?\n",
    "\n",
    "Опишите подробно все этапы вашего решения.\n",
    "\n",
    "**Для получения ответа** использовался метод оценки точности прогнозирования. Для начала была расчитана абсолютная ошибка, т.е. общее количество неправильных ответов и далее их поделенна на сумму верных ответов. В результате я вывел ТОП-5 асессоров сделавших максимальное количество ошибок, саммый яркий пример был - асессор совершил 236 ошибок из 236 возможных.\n",
    "Так же была расчитана MSE ("
   ]
  },
  {
   "cell_type": "markdown",
   "metadata": {},
   "source": [
    "**Шаг 1. Подготавливаем и проверяем данные**"
   ]
  },
  {
   "cell_type": "code",
   "execution_count": 2,
   "metadata": {},
   "outputs": [
    {
     "data": {
      "text/html": [
       "<div>\n",
       "<style scoped>\n",
       "    .dataframe tbody tr th:only-of-type {\n",
       "        vertical-align: middle;\n",
       "    }\n",
       "\n",
       "    .dataframe tbody tr th {\n",
       "        vertical-align: top;\n",
       "    }\n",
       "\n",
       "    .dataframe thead th {\n",
       "        text-align: right;\n",
       "    }\n",
       "</style>\n",
       "<table border=\"1\" class=\"dataframe\">\n",
       "  <thead>\n",
       "    <tr style=\"text-align: right;\">\n",
       "      <th></th>\n",
       "      <th>login</th>\n",
       "      <th>uid</th>\n",
       "      <th>docid</th>\n",
       "      <th>jud</th>\n",
       "      <th>cjud</th>\n",
       "    </tr>\n",
       "  </thead>\n",
       "  <tbody>\n",
       "    <tr>\n",
       "      <th>0</th>\n",
       "      <td>assessor158</td>\n",
       "      <td>158</td>\n",
       "      <td>0</td>\n",
       "      <td>0</td>\n",
       "      <td>0</td>\n",
       "    </tr>\n",
       "    <tr>\n",
       "      <th>1</th>\n",
       "      <td>assessor238</td>\n",
       "      <td>238</td>\n",
       "      <td>0</td>\n",
       "      <td>0</td>\n",
       "      <td>0</td>\n",
       "    </tr>\n",
       "    <tr>\n",
       "      <th>2</th>\n",
       "      <td>assessor488</td>\n",
       "      <td>488</td>\n",
       "      <td>0</td>\n",
       "      <td>0</td>\n",
       "      <td>0</td>\n",
       "    </tr>\n",
       "    <tr>\n",
       "      <th>3</th>\n",
       "      <td>assessor136</td>\n",
       "      <td>136</td>\n",
       "      <td>0</td>\n",
       "      <td>0</td>\n",
       "      <td>0</td>\n",
       "    </tr>\n",
       "    <tr>\n",
       "      <th>4</th>\n",
       "      <td>assessor300</td>\n",
       "      <td>300</td>\n",
       "      <td>0</td>\n",
       "      <td>0</td>\n",
       "      <td>0</td>\n",
       "    </tr>\n",
       "  </tbody>\n",
       "</table>\n",
       "</div>"
      ],
      "text/plain": [
       "         login  uid  docid  jud  cjud\n",
       "0  assessor158  158      0    0     0\n",
       "1  assessor238  238      0    0     0\n",
       "2  assessor488  488      0    0     0\n",
       "3  assessor136  136      0    0     0\n",
       "4  assessor300  300      0    0     0"
      ]
     },
     "execution_count": 2,
     "metadata": {},
     "output_type": "execute_result"
    }
   ],
   "source": [
    "#загрузка стандартных библиотек\n",
    "import pandas as pd\n",
    "import numpy as np\n",
    "import matplotlib.pyplot as plt\n",
    "import seaborn as sns\n",
    "df = pd.read_csv('data_task3.csv', sep='\\t')\n",
    "df.head()"
   ]
  },
  {
   "cell_type": "code",
   "execution_count": 3,
   "metadata": {},
   "outputs": [
    {
     "name": "stdout",
     "output_type": "stream",
     "text": [
      "<class 'pandas.core.frame.DataFrame'>\n",
      "RangeIndex: 250000 entries, 0 to 249999\n",
      "Data columns (total 5 columns):\n",
      " #   Column  Non-Null Count   Dtype \n",
      "---  ------  --------------   ----- \n",
      " 0   login   250000 non-null  object\n",
      " 1   uid     250000 non-null  int64 \n",
      " 2   docid   250000 non-null  int64 \n",
      " 3   jud     250000 non-null  int64 \n",
      " 4   cjud    250000 non-null  int64 \n",
      "dtypes: int64(4), object(1)\n",
      "memory usage: 9.5+ MB\n"
     ]
    }
   ],
   "source": [
    "#вся таблица заполнена, пустых значений нет\n",
    "df.info()"
   ]
  },
  {
   "cell_type": "code",
   "execution_count": 4,
   "metadata": {},
   "outputs": [],
   "source": [
    "#проверка и устранение дубликатов\n",
    "df[df.duplicated(keep=False)]\n",
    "df = df.drop_duplicates()"
   ]
  },
  {
   "cell_type": "code",
   "execution_count": 5,
   "metadata": {},
   "outputs": [
    {
     "data": {
      "text/html": [
       "<div>\n",
       "<style scoped>\n",
       "    .dataframe tbody tr th:only-of-type {\n",
       "        vertical-align: middle;\n",
       "    }\n",
       "\n",
       "    .dataframe tbody tr th {\n",
       "        vertical-align: top;\n",
       "    }\n",
       "\n",
       "    .dataframe thead th {\n",
       "        text-align: right;\n",
       "    }\n",
       "</style>\n",
       "<table border=\"1\" class=\"dataframe\">\n",
       "  <thead>\n",
       "    <tr style=\"text-align: right;\">\n",
       "      <th></th>\n",
       "      <th>uid</th>\n",
       "      <th>docid</th>\n",
       "      <th>jud</th>\n",
       "      <th>cjud</th>\n",
       "    </tr>\n",
       "  </thead>\n",
       "  <tbody>\n",
       "    <tr>\n",
       "      <th>count</th>\n",
       "      <td>249999.000000</td>\n",
       "      <td>249999.000000</td>\n",
       "      <td>249999.000000</td>\n",
       "      <td>249999.000000</td>\n",
       "    </tr>\n",
       "    <tr>\n",
       "      <th>mean</th>\n",
       "      <td>299.325645</td>\n",
       "      <td>24999.533682</td>\n",
       "      <td>0.238121</td>\n",
       "      <td>0.119920</td>\n",
       "    </tr>\n",
       "    <tr>\n",
       "      <th>std</th>\n",
       "      <td>173.132218</td>\n",
       "      <td>14433.804637</td>\n",
       "      <td>0.425934</td>\n",
       "      <td>0.324869</td>\n",
       "    </tr>\n",
       "    <tr>\n",
       "      <th>min</th>\n",
       "      <td>0.000000</td>\n",
       "      <td>0.000000</td>\n",
       "      <td>0.000000</td>\n",
       "      <td>0.000000</td>\n",
       "    </tr>\n",
       "    <tr>\n",
       "      <th>25%</th>\n",
       "      <td>150.000000</td>\n",
       "      <td>12499.500000</td>\n",
       "      <td>0.000000</td>\n",
       "      <td>0.000000</td>\n",
       "    </tr>\n",
       "    <tr>\n",
       "      <th>50%</th>\n",
       "      <td>299.000000</td>\n",
       "      <td>25000.000000</td>\n",
       "      <td>0.000000</td>\n",
       "      <td>0.000000</td>\n",
       "    </tr>\n",
       "    <tr>\n",
       "      <th>75%</th>\n",
       "      <td>449.000000</td>\n",
       "      <td>37499.500000</td>\n",
       "      <td>0.000000</td>\n",
       "      <td>0.000000</td>\n",
       "    </tr>\n",
       "    <tr>\n",
       "      <th>max</th>\n",
       "      <td>599.000000</td>\n",
       "      <td>49999.000000</td>\n",
       "      <td>1.000000</td>\n",
       "      <td>1.000000</td>\n",
       "    </tr>\n",
       "  </tbody>\n",
       "</table>\n",
       "</div>"
      ],
      "text/plain": [
       "                 uid          docid            jud           cjud\n",
       "count  249999.000000  249999.000000  249999.000000  249999.000000\n",
       "mean      299.325645   24999.533682       0.238121       0.119920\n",
       "std       173.132218   14433.804637       0.425934       0.324869\n",
       "min         0.000000       0.000000       0.000000       0.000000\n",
       "25%       150.000000   12499.500000       0.000000       0.000000\n",
       "50%       299.000000   25000.000000       0.000000       0.000000\n",
       "75%       449.000000   37499.500000       0.000000       0.000000\n",
       "max       599.000000   49999.000000       1.000000       1.000000"
      ]
     },
     "execution_count": 5,
     "metadata": {},
     "output_type": "execute_result"
    }
   ],
   "source": [
    "#общая статистика\n",
    "df.describe()"
   ]
  },
  {
   "cell_type": "markdown",
   "metadata": {},
   "source": [
    "**Шаг 2. Какие асессоры справились хуже всего.**\n",
    "\n",
    "##### Для ответа на этот вопрос попробую обратиться к методу оценки точности прогнозирования, где под прогнозированием будут выступать ответы асессоров (jud), а под фактическими данными - правильные ответы (cjud).\n",
    "##### В таком случае формула будет следующая:  ABS(jud-cjud) / cjud"
   ]
  },
  {
   "cell_type": "code",
   "execution_count": 6,
   "metadata": {},
   "outputs": [
    {
     "data": {
      "text/html": [
       "<div>\n",
       "<style scoped>\n",
       "    .dataframe tbody tr th:only-of-type {\n",
       "        vertical-align: middle;\n",
       "    }\n",
       "\n",
       "    .dataframe tbody tr th {\n",
       "        vertical-align: top;\n",
       "    }\n",
       "\n",
       "    .dataframe thead th {\n",
       "        text-align: right;\n",
       "    }\n",
       "</style>\n",
       "<table border=\"1\" class=\"dataframe\">\n",
       "  <thead>\n",
       "    <tr style=\"text-align: right;\">\n",
       "      <th></th>\n",
       "      <th>login</th>\n",
       "      <th>uid</th>\n",
       "      <th>docid</th>\n",
       "      <th>jud</th>\n",
       "      <th>cjud</th>\n",
       "      <th>fa</th>\n",
       "      <th>mistake</th>\n",
       "    </tr>\n",
       "  </thead>\n",
       "  <tbody>\n",
       "    <tr>\n",
       "      <th>0</th>\n",
       "      <td>assessor158</td>\n",
       "      <td>158</td>\n",
       "      <td>0</td>\n",
       "      <td>0</td>\n",
       "      <td>0</td>\n",
       "      <td>0</td>\n",
       "      <td>0</td>\n",
       "    </tr>\n",
       "    <tr>\n",
       "      <th>1</th>\n",
       "      <td>assessor238</td>\n",
       "      <td>238</td>\n",
       "      <td>0</td>\n",
       "      <td>0</td>\n",
       "      <td>0</td>\n",
       "      <td>0</td>\n",
       "      <td>0</td>\n",
       "    </tr>\n",
       "    <tr>\n",
       "      <th>2</th>\n",
       "      <td>assessor488</td>\n",
       "      <td>488</td>\n",
       "      <td>0</td>\n",
       "      <td>0</td>\n",
       "      <td>0</td>\n",
       "      <td>0</td>\n",
       "      <td>0</td>\n",
       "    </tr>\n",
       "  </tbody>\n",
       "</table>\n",
       "</div>"
      ],
      "text/plain": [
       "         login  uid  docid  jud  cjud  fa  mistake\n",
       "0  assessor158  158      0    0     0   0        0\n",
       "1  assessor238  238      0    0     0   0        0\n",
       "2  assessor488  488      0    0     0   0        0"
      ]
     },
     "execution_count": 6,
     "metadata": {},
     "output_type": "execute_result"
    }
   ],
   "source": [
    "#подсчет общего кол-ва неправильных ответов\n",
    "df['fa']=abs((df['jud']-df['cjud'])).astype(int)\n",
    "df['mistake']=(df['jud']-df['cjud']).astype(int)\n",
    "df.head(3)"
   ]
  },
  {
   "cell_type": "code",
   "execution_count": 7,
   "metadata": {},
   "outputs": [
    {
     "data": {
      "text/html": [
       "<div>\n",
       "<style scoped>\n",
       "    .dataframe tbody tr th:only-of-type {\n",
       "        vertical-align: middle;\n",
       "    }\n",
       "\n",
       "    .dataframe tbody tr th {\n",
       "        vertical-align: top;\n",
       "    }\n",
       "\n",
       "    .dataframe thead th {\n",
       "        text-align: right;\n",
       "    }\n",
       "</style>\n",
       "<table border=\"1\" class=\"dataframe\">\n",
       "  <thead>\n",
       "    <tr style=\"text-align: right;\">\n",
       "      <th></th>\n",
       "      <th>cjud</th>\n",
       "      <th>fa</th>\n",
       "      <th>jud</th>\n",
       "      <th>sfa</th>\n",
       "    </tr>\n",
       "    <tr>\n",
       "      <th>uid</th>\n",
       "      <th></th>\n",
       "      <th></th>\n",
       "      <th></th>\n",
       "      <th></th>\n",
       "    </tr>\n",
       "  </thead>\n",
       "  <tbody>\n",
       "    <tr>\n",
       "      <th>118</th>\n",
       "      <td>39</td>\n",
       "      <td>205</td>\n",
       "      <td>214</td>\n",
       "      <td>5.256410</td>\n",
       "    </tr>\n",
       "    <tr>\n",
       "      <th>56</th>\n",
       "      <td>46</td>\n",
       "      <td>236</td>\n",
       "      <td>236</td>\n",
       "      <td>5.130435</td>\n",
       "    </tr>\n",
       "    <tr>\n",
       "      <th>3</th>\n",
       "      <td>49</td>\n",
       "      <td>230</td>\n",
       "      <td>231</td>\n",
       "      <td>4.693878</td>\n",
       "    </tr>\n",
       "    <tr>\n",
       "      <th>390</th>\n",
       "      <td>47</td>\n",
       "      <td>214</td>\n",
       "      <td>223</td>\n",
       "      <td>4.553191</td>\n",
       "    </tr>\n",
       "    <tr>\n",
       "      <th>234</th>\n",
       "      <td>14</td>\n",
       "      <td>51</td>\n",
       "      <td>53</td>\n",
       "      <td>3.642857</td>\n",
       "    </tr>\n",
       "  </tbody>\n",
       "</table>\n",
       "</div>"
      ],
      "text/plain": [
       "     cjud   fa  jud       sfa\n",
       "uid                          \n",
       "118    39  205  214  5.256410\n",
       "56     46  236  236  5.130435\n",
       "3      49  230  231  4.693878\n",
       "390    47  214  223  4.553191\n",
       "234    14   51   53  3.642857"
      ]
     },
     "execution_count": 7,
     "metadata": {},
     "output_type": "execute_result"
    }
   ],
   "source": [
    "#сводная таблица для группировки расчитанных значений\n",
    "pivot =pd.pivot_table(df,values=['jud','fa','cjud'], index = 'uid', aggfunc='sum')\n",
    "pivot['sfa'] = pivot.fa / pivot.cjud\n",
    "pivot.sort_values('sfa', ascending = False).head() #сортировка для выявления наихудших позиций"
   ]
  },
  {
   "cell_type": "markdown",
   "metadata": {},
   "source": [
    "** **\n",
    "### Ответ:\n",
    "**Показаны топ-5 асессоров**, которые допустили максимальное количество ошибок.\n",
    "Например, асессор №56 совершил 236 ошибок из 236 возможных, поставив везде 1, где должен быть 0 и 0 где должен быть один. Но лидер данного анти-рейтинга явлется асессор№118, не смотря на то что, данный асессор имеет меньше неправильных ответ, сумма его ошибки больше.\n",
    "** **\n",
    "#### \n",
    "**Шаг 3.** Еще немного посмотрим данные.\n",
    "Проверим, правильно ли работает точность (прогнозирования) ответов построенная выше."
   ]
  },
  {
   "cell_type": "code",
   "execution_count": 8,
   "metadata": {},
   "outputs": [
    {
     "data": {
      "text/plain": [
       "<matplotlib.collections.PathCollection at 0x7f47bb899cc0>"
      ]
     },
     "execution_count": 8,
     "metadata": {},
     "output_type": "execute_result"
    },
    {
     "data": {
      "image/png": "[encoded data removed]",
      "text/plain": [
       "<Figure size 432x288 with 1 Axes>"
      ]
     },
     "metadata": {
      "needs_background": "light"
     },
     "output_type": "display_data"
    }
   ],
   "source": [
    "y = pivot['sfa']\n",
    "x = pivot['fa']\n",
    "plt.ylabel('Точность ответа')\n",
    "plt.xlabel('Абсолютная ошибка')\n",
    "plt.scatter(x,y)"
   ]
  },
  {
   "cell_type": "markdown",
   "metadata": {},
   "source": [
    "Из графика можно сделать вывод что, чем выше абсолютная ошибка, тем дальше точность стремится от нуля, а это значит всё работает корректно. Так же в верхнем правом углу хорошо видно асессоров которые попали в анти-рейтинг в таблице выше."
   ]
  },
  {
   "cell_type": "code",
   "execution_count": 9,
   "metadata": {},
   "outputs": [
    {
     "data": {
      "text/html": [
       "<div>\n",
       "<style scoped>\n",
       "    .dataframe tbody tr th:only-of-type {\n",
       "        vertical-align: middle;\n",
       "    }\n",
       "\n",
       "    .dataframe tbody tr th {\n",
       "        vertical-align: top;\n",
       "    }\n",
       "\n",
       "    .dataframe thead th {\n",
       "        text-align: right;\n",
       "    }\n",
       "</style>\n",
       "<table border=\"1\" class=\"dataframe\">\n",
       "  <thead>\n",
       "    <tr style=\"text-align: right;\">\n",
       "      <th></th>\n",
       "      <th>uid</th>\n",
       "      <th>docid</th>\n",
       "      <th>jud</th>\n",
       "      <th>cjud</th>\n",
       "      <th>fa</th>\n",
       "      <th>mistake</th>\n",
       "    </tr>\n",
       "  </thead>\n",
       "  <tbody>\n",
       "    <tr>\n",
       "      <th>count</th>\n",
       "      <td>249999.000000</td>\n",
       "      <td>249999.000000</td>\n",
       "      <td>249999.000000</td>\n",
       "      <td>249999.000000</td>\n",
       "      <td>249999.000000</td>\n",
       "      <td>249999.00000</td>\n",
       "    </tr>\n",
       "    <tr>\n",
       "      <th>mean</th>\n",
       "      <td>299.325645</td>\n",
       "      <td>24999.533682</td>\n",
       "      <td>0.238121</td>\n",
       "      <td>0.119920</td>\n",
       "      <td>0.158713</td>\n",
       "      <td>0.11820</td>\n",
       "    </tr>\n",
       "    <tr>\n",
       "      <th>std</th>\n",
       "      <td>173.132218</td>\n",
       "      <td>14433.804637</td>\n",
       "      <td>0.425934</td>\n",
       "      <td>0.324869</td>\n",
       "      <td>0.365409</td>\n",
       "      <td>0.38045</td>\n",
       "    </tr>\n",
       "    <tr>\n",
       "      <th>min</th>\n",
       "      <td>0.000000</td>\n",
       "      <td>0.000000</td>\n",
       "      <td>0.000000</td>\n",
       "      <td>0.000000</td>\n",
       "      <td>0.000000</td>\n",
       "      <td>-1.00000</td>\n",
       "    </tr>\n",
       "    <tr>\n",
       "      <th>25%</th>\n",
       "      <td>150.000000</td>\n",
       "      <td>12499.500000</td>\n",
       "      <td>0.000000</td>\n",
       "      <td>0.000000</td>\n",
       "      <td>0.000000</td>\n",
       "      <td>0.00000</td>\n",
       "    </tr>\n",
       "    <tr>\n",
       "      <th>50%</th>\n",
       "      <td>299.000000</td>\n",
       "      <td>25000.000000</td>\n",
       "      <td>0.000000</td>\n",
       "      <td>0.000000</td>\n",
       "      <td>0.000000</td>\n",
       "      <td>0.00000</td>\n",
       "    </tr>\n",
       "    <tr>\n",
       "      <th>75%</th>\n",
       "      <td>449.000000</td>\n",
       "      <td>37499.500000</td>\n",
       "      <td>0.000000</td>\n",
       "      <td>0.000000</td>\n",
       "      <td>0.000000</td>\n",
       "      <td>0.00000</td>\n",
       "    </tr>\n",
       "    <tr>\n",
       "      <th>max</th>\n",
       "      <td>599.000000</td>\n",
       "      <td>49999.000000</td>\n",
       "      <td>1.000000</td>\n",
       "      <td>1.000000</td>\n",
       "      <td>1.000000</td>\n",
       "      <td>1.00000</td>\n",
       "    </tr>\n",
       "  </tbody>\n",
       "</table>\n",
       "</div>"
      ],
      "text/plain": [
       "                 uid          docid            jud           cjud  \\\n",
       "count  249999.000000  249999.000000  249999.000000  249999.000000   \n",
       "mean      299.325645   24999.533682       0.238121       0.119920   \n",
       "std       173.132218   14433.804637       0.425934       0.324869   \n",
       "min         0.000000       0.000000       0.000000       0.000000   \n",
       "25%       150.000000   12499.500000       0.000000       0.000000   \n",
       "50%       299.000000   25000.000000       0.000000       0.000000   \n",
       "75%       449.000000   37499.500000       0.000000       0.000000   \n",
       "max       599.000000   49999.000000       1.000000       1.000000   \n",
       "\n",
       "                  fa       mistake  \n",
       "count  249999.000000  249999.00000  \n",
       "mean        0.158713       0.11820  \n",
       "std         0.365409       0.38045  \n",
       "min         0.000000      -1.00000  \n",
       "25%         0.000000       0.00000  \n",
       "50%         0.000000       0.00000  \n",
       "75%         0.000000       0.00000  \n",
       "max         1.000000       1.00000  "
      ]
     },
     "execution_count": 9,
     "metadata": {},
     "output_type": "execute_result"
    }
   ],
   "source": [
    "#Еще раз посмотрим статистическую таблицу\n",
    "df.describe()"
   ]
  },
  {
   "cell_type": "markdown",
   "metadata": {},
   "source": [
    "Хотел бы повторно обратиться к общей таблице. Тут так же можно сделать небольшие выводы, например, что среднее по jud и по cjud говорит о том, что асессоры в 2 раза чаще ставят 1 чем правильных ответов на самом деле(0,238 против 0,119). Так же это говорит о том что их 100 ответов, только 11 верные."
   ]
  },
  {
   "cell_type": "code",
   "execution_count": 10,
   "metadata": {},
   "outputs": [
    {
     "data": {
      "text/plain": [
       "0.1587126348505394"
      ]
     },
     "execution_count": 10,
     "metadata": {},
     "output_type": "execute_result"
    }
   ],
   "source": [
    "from sklearn.metrics import mean_squared_error\n",
    "Y_true = df['jud']\n",
    "Y_pred = df['cjud']\n",
    "mean_squared_error(Y_true,Y_pred)"
   ]
  },
  {
   "cell_type": "markdown",
   "metadata": {},
   "source": [
    "Применяя расчет средней квадратичной ошибки, можно сделать вывод, что **средний асессор делает около 15% ошибок**."
   ]
  },
  {
   "cell_type": "code",
   "execution_count": 11,
   "metadata": {},
   "outputs": [
    {
     "data": {
      "text/plain": [
       "Text(0, 0.5, 'Среднее кол-во ошибок')"
      ]
     },
     "execution_count": 11,
     "metadata": {},
     "output_type": "execute_result"
    },
    {
     "data": {
      "image/png": "[encoded data removed]",
      "text/plain": [
       "<Figure size 432x288 with 1 Axes>"
      ]
     },
     "metadata": {
      "needs_background": "light"
     },
     "output_type": "display_data"
    }
   ],
   "source": [
    "pivot['fa'].plot(kind='hist')\n",
    "plt.ylabel('Среднее кол-во ошибок')"
   ]
  },
  {
   "cell_type": "code",
   "execution_count": null,
   "metadata": {},
   "outputs": [],
   "source": []
  },
  {
   "cell_type": "code",
   "execution_count": null,
   "metadata": {},
   "outputs": [],
   "source": []
  }
 ],
 "metadata": {
  "kernelspec": {
   "display_name": "Python",
   "language": "python",
   "name": "conda-env-python-py"
  },
  "language_info": {
   "codemirror_mode": {
    "name": "ipython",
    "version": 3
   },
   "file_extension": ".py",
   "mimetype": "text/x-python",
   "name": "python",
   "nbconvert_exporter": "python",
   "pygments_lexer": "ipython3",
   "version": "3.6.12"
  }
 },
 "nbformat": 4,
 "nbformat_minor": 4
}
